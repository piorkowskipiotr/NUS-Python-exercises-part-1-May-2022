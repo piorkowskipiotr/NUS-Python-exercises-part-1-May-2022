{
 "cells": [
  {
   "cell_type": "code",
   "execution_count": 2,
   "id": "bc8620ee",
   "metadata": {},
   "outputs": [
    {
     "name": "stdout",
     "output_type": "stream",
     "text": [
      "Requirement already satisfied: exbook in c:\\users\\pipio\\anaconda3\\lib\\site-packages (0.0.3)\n"
     ]
    }
   ],
   "source": [
    "!pip install exbook"
   ]
  },
  {
   "cell_type": "code",
   "execution_count": 37,
   "id": "8a973939",
   "metadata": {},
   "outputs": [
    {
     "data": {
      "text/plain": [
       "36"
      ]
     },
     "execution_count": 37,
     "metadata": {},
     "output_type": "execute_result"
    }
   ],
   "source": [
    "from exbook import book as eb\n",
    "len(eb)"
   ]
  },
  {
   "cell_type": "code",
   "execution_count": 3,
   "id": "a409de8d",
   "metadata": {},
   "outputs": [
    {
     "name": "stdout",
     "output_type": "stream",
     "text": [
      "Define a function with two strings to be the input arguments. The output is \n",
      "the summation of the numerical values of the input strings. For example, if \n",
      "the input strings are \"3.5\"and \"2.7\", then the output is 6.2, as a floating\n",
      "point number.\n"
     ]
    },
    {
     "data": {
      "text/html": [
       "<div>\n",
       "<style scoped>\n",
       "    .dataframe tbody tr th:only-of-type {\n",
       "        vertical-align: middle;\n",
       "    }\n",
       "\n",
       "    .dataframe tbody tr th {\n",
       "        vertical-align: top;\n",
       "    }\n",
       "\n",
       "    .dataframe thead th {\n",
       "        text-align: right;\n",
       "    }\n",
       "</style>\n",
       "<table border=\"1\" class=\"dataframe\">\n",
       "  <thead>\n",
       "    <tr style=\"text-align: right;\">\n",
       "      <th></th>\n",
       "      <th>Input1: str</th>\n",
       "      <th>Input2: str</th>\n",
       "      <th>Output: float</th>\n",
       "    </tr>\n",
       "  </thead>\n",
       "  <tbody>\n",
       "    <tr>\n",
       "      <th>Test 1:</th>\n",
       "      <td>3.5</td>\n",
       "      <td>2.7</td>\n",
       "      <td>6.2</td>\n",
       "    </tr>\n",
       "  </tbody>\n",
       "</table>\n",
       "</div>"
      ],
      "text/plain": [
       "        Input1: str Input2: str Output: float\n",
       "Test 1:         3.5         2.7           6.2"
      ]
     },
     "metadata": {},
     "output_type": "display_data"
    },
    {
     "name": "stdout",
     "output_type": "stream",
     "text": [
      "\n",
      "\u001b[1mData Type Conversion: Easy\u001b[0;0m \n",
      "\n"
     ]
    }
   ],
   "source": [
    "print(eb[0])"
   ]
  },
  {
   "cell_type": "code",
   "execution_count": 24,
   "id": "13ab92e1",
   "metadata": {},
   "outputs": [
    {
     "name": "stdout",
     "output_type": "stream",
     "text": [
      "6.2\n"
     ]
    }
   ],
   "source": [
    "def dtc(Input1, Input2):\n",
    "        output = float(Input1 + Input2)\n",
    "        print(output)\n",
    "    \n",
    "    \n",
    "dtc(3.5,2.7)"
   ]
  },
  {
   "cell_type": "code",
   "execution_count": 26,
   "id": "ce14ea31",
   "metadata": {},
   "outputs": [
    {
     "name": "stdout",
     "output_type": "stream",
     "text": [
      "Write a function to determine whether an integer is a palindrome. An integer \n",
      "is a palindrome when it reads the same backward as forward. For example, \n",
      "121 is a palindrome so the output is True, 10 is not a palindrome so the\n",
      "output is False.\n"
     ]
    },
    {
     "data": {
      "text/html": [
       "<div>\n",
       "<style scoped>\n",
       "    .dataframe tbody tr th:only-of-type {\n",
       "        vertical-align: middle;\n",
       "    }\n",
       "\n",
       "    .dataframe tbody tr th {\n",
       "        vertical-align: top;\n",
       "    }\n",
       "\n",
       "    .dataframe thead th {\n",
       "        text-align: right;\n",
       "    }\n",
       "</style>\n",
       "<table border=\"1\" class=\"dataframe\">\n",
       "  <thead>\n",
       "    <tr style=\"text-align: right;\">\n",
       "      <th></th>\n",
       "      <th>Input1: int</th>\n",
       "      <th>Output: bool</th>\n",
       "    </tr>\n",
       "  </thead>\n",
       "  <tbody>\n",
       "    <tr>\n",
       "      <th>Test 1:</th>\n",
       "      <td>151</td>\n",
       "      <td>True</td>\n",
       "    </tr>\n",
       "    <tr>\n",
       "      <th>Test 2:</th>\n",
       "      <td>-5</td>\n",
       "      <td>False</td>\n",
       "    </tr>\n",
       "  </tbody>\n",
       "</table>\n",
       "</div>"
      ],
      "text/plain": [
       "        Input1: int Output: bool\n",
       "Test 1:         151         True\n",
       "Test 2:          -5        False"
      ]
     },
     "metadata": {},
     "output_type": "display_data"
    },
    {
     "name": "stdout",
     "output_type": "stream",
     "text": [
      "\n",
      "\u001b[1mPalindrome: Easy\u001b[0;0m \n",
      "\n"
     ]
    }
   ],
   "source": [
    "print(eb[1])"
   ]
  },
  {
   "cell_type": "code",
   "execution_count": 48,
   "id": "c195d314",
   "metadata": {},
   "outputs": [
    {
     "data": {
      "text/plain": [
       "False"
      ]
     },
     "execution_count": 48,
     "metadata": {},
     "output_type": "execute_result"
    }
   ],
   "source": [
    "def dtc(a):\n",
    "    if str(a) == str(a)[::-1]:\n",
    "        return(True)\n",
    "    else:\n",
    "        return(False)\n",
    "        \n",
    "dtc(-5)"
   ]
  },
  {
   "cell_type": "code",
   "execution_count": 49,
   "id": "d01fd1cb",
   "metadata": {},
   "outputs": [
    {
     "name": "stdout",
     "output_type": "stream",
     "text": [
      "Write a function with a given argument n to return a list containing all \n",
      "positive integers no larger than n, and these integers can be divided by 7 \n",
      "but can not be divided by 5. For example, if n=50, then the returned list \n",
      "is [7, 14, 21, 28, 42, 49].\n"
     ]
    },
    {
     "data": {
      "text/html": [
       "<div>\n",
       "<style scoped>\n",
       "    .dataframe tbody tr th:only-of-type {\n",
       "        vertical-align: middle;\n",
       "    }\n",
       "\n",
       "    .dataframe tbody tr th {\n",
       "        vertical-align: top;\n",
       "    }\n",
       "\n",
       "    .dataframe thead th {\n",
       "        text-align: right;\n",
       "    }\n",
       "</style>\n",
       "<table border=\"1\" class=\"dataframe\">\n",
       "  <thead>\n",
       "    <tr style=\"text-align: right;\">\n",
       "      <th></th>\n",
       "      <th>Input1: int</th>\n",
       "      <th>Output: list</th>\n",
       "    </tr>\n",
       "  </thead>\n",
       "  <tbody>\n",
       "    <tr>\n",
       "      <th>Test 1:</th>\n",
       "      <td>14</td>\n",
       "      <td>[7, 14]</td>\n",
       "    </tr>\n",
       "    <tr>\n",
       "      <th>Test 2:</th>\n",
       "      <td>20</td>\n",
       "      <td>[7, 14]</td>\n",
       "    </tr>\n",
       "    <tr>\n",
       "      <th>Test 3:</th>\n",
       "      <td>50</td>\n",
       "      <td>[7, 14, 21, 28, 42, 49]</td>\n",
       "    </tr>\n",
       "  </tbody>\n",
       "</table>\n",
       "</div>"
      ],
      "text/plain": [
       "        Input1: int             Output: list\n",
       "Test 1:          14                  [7, 14]\n",
       "Test 2:          20                  [7, 14]\n",
       "Test 3:          50  [7, 14, 21, 28, 42, 49]"
      ]
     },
     "metadata": {},
     "output_type": "display_data"
    },
    {
     "name": "stdout",
     "output_type": "stream",
     "text": [
      "\n",
      "\u001b[1mSeven And Five: Easy\u001b[0;0m \n",
      "\n"
     ]
    }
   ],
   "source": [
    "print(eb[2])"
   ]
  },
  {
   "cell_type": "code",
   "execution_count": 64,
   "id": "912b63a2",
   "metadata": {},
   "outputs": [
    {
     "name": "stdout",
     "output_type": "stream",
     "text": [
      "[7, 14, 21, 28, 42, 49]\n"
     ]
    }
   ],
   "source": [
    "def checky(n):\n",
    "    output=[]\n",
    "    for x in range(0,n+1):\n",
    "        if x % 7 == 0 and x % 5 != 0:\n",
    "            output.append(x)\n",
    "    print(output)\n",
    "            \n",
    "checky(50)"
   ]
  },
  {
   "cell_type": "code",
   "execution_count": 66,
   "id": "f704f637",
   "metadata": {},
   "outputs": [
    {
     "name": "stdout",
     "output_type": "stream",
     "text": [
      "Write a function to determine if a given positive integer n is a prime \n",
      "number.For example, 37 is a prime number so the output is True, 10 is not \n",
      "so the output is False.\n"
     ]
    },
    {
     "data": {
      "text/html": [
       "<div>\n",
       "<style scoped>\n",
       "    .dataframe tbody tr th:only-of-type {\n",
       "        vertical-align: middle;\n",
       "    }\n",
       "\n",
       "    .dataframe tbody tr th {\n",
       "        vertical-align: top;\n",
       "    }\n",
       "\n",
       "    .dataframe thead th {\n",
       "        text-align: right;\n",
       "    }\n",
       "</style>\n",
       "<table border=\"1\" class=\"dataframe\">\n",
       "  <thead>\n",
       "    <tr style=\"text-align: right;\">\n",
       "      <th></th>\n",
       "      <th>Input1: int</th>\n",
       "      <th>Output: bool</th>\n",
       "    </tr>\n",
       "  </thead>\n",
       "  <tbody>\n",
       "    <tr>\n",
       "      <th>Test 1:</th>\n",
       "      <td>6</td>\n",
       "      <td>False</td>\n",
       "    </tr>\n",
       "    <tr>\n",
       "      <th>Test 2:</th>\n",
       "      <td>47</td>\n",
       "      <td>True</td>\n",
       "    </tr>\n",
       "    <tr>\n",
       "      <th>Test 3:</th>\n",
       "      <td>53</td>\n",
       "      <td>True</td>\n",
       "    </tr>\n",
       "    <tr>\n",
       "      <th>Test 4:</th>\n",
       "      <td>61</td>\n",
       "      <td>True</td>\n",
       "    </tr>\n",
       "  </tbody>\n",
       "</table>\n",
       "</div>"
      ],
      "text/plain": [
       "        Input1: int Output: bool\n",
       "Test 1:           6        False\n",
       "Test 2:          47         True\n",
       "Test 3:          53         True\n",
       "Test 4:          61         True"
      ]
     },
     "metadata": {},
     "output_type": "display_data"
    },
    {
     "name": "stdout",
     "output_type": "stream",
     "text": [
      "\n",
      "\u001b[1mPrime Number: Easy\u001b[0;0m \n",
      "\n"
     ]
    }
   ],
   "source": [
    "print(eb[3])"
   ]
  },
  {
   "cell_type": "code",
   "execution_count": 78,
   "id": "b66752cd",
   "metadata": {},
   "outputs": [
    {
     "data": {
      "text/plain": [
       "True"
      ]
     },
     "execution_count": 78,
     "metadata": {},
     "output_type": "execute_result"
    }
   ],
   "source": [
    "def prime(m):\n",
    "    output = []\n",
    "    for x in range(1,m+1):\n",
    "        if m % x ==0:\n",
    "            output.append(x)\n",
    "    if len(output) ==2 or len(output) ==1:\n",
    "        return(True)\n",
    "    else:\n",
    "        return(False)\n",
    "        \n",
    "prime(37)"
   ]
  },
  {
   "cell_type": "code",
   "execution_count": 5,
   "id": "e83536d1",
   "metadata": {},
   "outputs": [
    {
     "name": "stdout",
     "output_type": "stream",
     "text": [
      "A robot starts to move from the origin (0, 0) on a 2D plane. Given a squence\n",
      "of moves, in terms of strings \"L\" for left, \"R\" for right, \"U\" for up, and\n",
      "\"D\" for down, write a function to tell if the robot returns to the origin\n",
      "(0, 0) after this sequence of moves. The output of the function is a boolean\n",
      "value.\n"
     ]
    },
    {
     "data": {
      "text/html": [
       "<div>\n",
       "<style scoped>\n",
       "    .dataframe tbody tr th:only-of-type {\n",
       "        vertical-align: middle;\n",
       "    }\n",
       "\n",
       "    .dataframe tbody tr th {\n",
       "        vertical-align: top;\n",
       "    }\n",
       "\n",
       "    .dataframe thead th {\n",
       "        text-align: right;\n",
       "    }\n",
       "</style>\n",
       "<table border=\"1\" class=\"dataframe\">\n",
       "  <thead>\n",
       "    <tr style=\"text-align: right;\">\n",
       "      <th></th>\n",
       "      <th>Input1: str</th>\n",
       "      <th>Output: bool</th>\n",
       "    </tr>\n",
       "  </thead>\n",
       "  <tbody>\n",
       "    <tr>\n",
       "      <th>Test 1:</th>\n",
       "      <td>UD</td>\n",
       "      <td>True</td>\n",
       "    </tr>\n",
       "    <tr>\n",
       "      <th>Test 2:</th>\n",
       "      <td>LL</td>\n",
       "      <td>False</td>\n",
       "    </tr>\n",
       "  </tbody>\n",
       "</table>\n",
       "</div>"
      ],
      "text/plain": [
       "        Input1: str Output: bool\n",
       "Test 1:          UD         True\n",
       "Test 2:          LL        False"
      ]
     },
     "metadata": {},
     "output_type": "display_data"
    },
    {
     "name": "stdout",
     "output_type": "stream",
     "text": [
      "\n",
      "\u001b[1mRobot: Easy\u001b[0;0m \n",
      "\n"
     ]
    }
   ],
   "source": [
    "print(eb[5])"
   ]
  },
  {
   "cell_type": "code",
   "execution_count": 29,
   "id": "d6432859",
   "metadata": {},
   "outputs": [
    {
     "data": {
      "text/plain": [
       "False"
      ]
     },
     "execution_count": 29,
     "metadata": {},
     "output_type": "execute_result"
    }
   ],
   "source": [
    "def robot(n):\n",
    "    origin1 = 0\n",
    "    origin2 = 0\n",
    "    for x in n:\n",
    "        if x == \"l\" or x == \"L\":\n",
    "            origin1 = origin1 - 1\n",
    "        if x == \"r\" or x == \"R\":\n",
    "            origin1 = origin1+1\n",
    "        if x ==\"u\" or x == \"U\":\n",
    "            origin2=origin2+1\n",
    "        if x ==\"d\" or x == \"D\":\n",
    "            origin2 = origin2-1\n",
    "            \n",
    "    if origin1 == 0 and origin2 == 0:\n",
    "        return True\n",
    "    else:\n",
    "        return False\n",
    "    \n",
    "    \n",
    "robot(\"RR\")"
   ]
  },
  {
   "cell_type": "code",
   "execution_count": 9,
   "id": "056e7069",
   "metadata": {},
   "outputs": [
    {
     "data": {
      "text/plain": [
       "{0, 1}"
      ]
     },
     "execution_count": 9,
     "metadata": {},
     "output_type": "execute_result"
    }
   ],
   "source": [
    "l = (0,0)\n",
    "k = (0,1)\n",
    "set(k + l)"
   ]
  },
  {
   "cell_type": "code",
   "execution_count": 4,
   "id": "724146a2",
   "metadata": {},
   "outputs": [
    {
     "name": "stdout",
     "output_type": "stream",
     "text": [
      "Given a list of numbers as the first input argument, write a function to \n",
      "remove all items in the list that have the same value as the second input \n",
      "argument. For example, if the first argument is [1, 3, 2, 2, 4, 2, 5] and \n",
      "the second argument is given as 2, then the output is [1, 3, 4, 5], with \n",
      "all 2s removed.\n"
     ]
    },
    {
     "data": {
      "text/html": [
       "<div>\n",
       "<style scoped>\n",
       "    .dataframe tbody tr th:only-of-type {\n",
       "        vertical-align: middle;\n",
       "    }\n",
       "\n",
       "    .dataframe tbody tr th {\n",
       "        vertical-align: top;\n",
       "    }\n",
       "\n",
       "    .dataframe thead th {\n",
       "        text-align: right;\n",
       "    }\n",
       "</style>\n",
       "<table border=\"1\" class=\"dataframe\">\n",
       "  <thead>\n",
       "    <tr style=\"text-align: right;\">\n",
       "      <th></th>\n",
       "      <th>Input1: list</th>\n",
       "      <th>Input2: int</th>\n",
       "      <th>Output: list</th>\n",
       "    </tr>\n",
       "  </thead>\n",
       "  <tbody>\n",
       "    <tr>\n",
       "      <th>Test 1:</th>\n",
       "      <td>[0, 1, 2, 3, 2, 5]</td>\n",
       "      <td>2</td>\n",
       "      <td>[0, 1, 3, 5]</td>\n",
       "    </tr>\n",
       "    <tr>\n",
       "      <th>Test 2:</th>\n",
       "      <td>[0, 1, 2, 3]</td>\n",
       "      <td>4</td>\n",
       "      <td>[0, 1, 2, 3]</td>\n",
       "    </tr>\n",
       "  </tbody>\n",
       "</table>\n",
       "</div>"
      ],
      "text/plain": [
       "               Input1: list Input2: int  Output: list\n",
       "Test 1:  [0, 1, 2, 3, 2, 5]           2  [0, 1, 3, 5]\n",
       "Test 2:        [0, 1, 2, 3]           4  [0, 1, 2, 3]"
      ]
     },
     "metadata": {},
     "output_type": "display_data"
    },
    {
     "name": "stdout",
     "output_type": "stream",
     "text": [
      "\n",
      "\u001b[1mRemove All: Easy\u001b[0;0m \n",
      "\n"
     ]
    }
   ],
   "source": [
    "print(eb[6])"
   ]
  },
  {
   "cell_type": "code",
   "execution_count": 9,
   "id": "bae43116",
   "metadata": {},
   "outputs": [
    {
     "data": {
      "text/plain": [
       "[0, 1, 2, 3]"
      ]
     },
     "execution_count": 9,
     "metadata": {},
     "output_type": "execute_result"
    }
   ],
   "source": [
    "def listeczka(x,y):\n",
    "    new_list = []\n",
    "    for z in x:\n",
    "        if z != y:\n",
    "            new_list.append(z)\n",
    "    return(new_list)\n",
    "listeczka([0, 1, 2, 3], 4)"
   ]
  },
  {
   "cell_type": "code",
   "execution_count": 10,
   "id": "c9af9f5e",
   "metadata": {},
   "outputs": [
    {
     "name": "stdout",
     "output_type": "stream",
     "text": [
      "Given two equal length lists of unique numbers, write a function to return \n",
      "the number of items in these two lists that have the same values and are \n",
      "at the same positions. For example, if these two lists are [1, 2, 3, 5] and \n",
      "[2, 1, 3, 4], then the output is 1 because the same value 3 appears at the \n",
      "same position 2 of both lists.\n"
     ]
    },
    {
     "data": {
      "text/html": [
       "<div>\n",
       "<style scoped>\n",
       "    .dataframe tbody tr th:only-of-type {\n",
       "        vertical-align: middle;\n",
       "    }\n",
       "\n",
       "    .dataframe tbody tr th {\n",
       "        vertical-align: top;\n",
       "    }\n",
       "\n",
       "    .dataframe thead th {\n",
       "        text-align: right;\n",
       "    }\n",
       "</style>\n",
       "<table border=\"1\" class=\"dataframe\">\n",
       "  <thead>\n",
       "    <tr style=\"text-align: right;\">\n",
       "      <th></th>\n",
       "      <th>Input1: list</th>\n",
       "      <th>Input2: list</th>\n",
       "      <th>Output: int</th>\n",
       "    </tr>\n",
       "  </thead>\n",
       "  <tbody>\n",
       "    <tr>\n",
       "      <th>Test 1:</th>\n",
       "      <td>[1, 2, 3, 5]</td>\n",
       "      <td>[2, 1, 3, 4]</td>\n",
       "      <td>1</td>\n",
       "    </tr>\n",
       "    <tr>\n",
       "      <th>Test 2:</th>\n",
       "      <td>[1, 2, 3, 5]</td>\n",
       "      <td>[5, 2, 3, 1]</td>\n",
       "      <td>2</td>\n",
       "    </tr>\n",
       "  </tbody>\n",
       "</table>\n",
       "</div>"
      ],
      "text/plain": [
       "         Input1: list  Input2: list Output: int\n",
       "Test 1:  [1, 2, 3, 5]  [2, 1, 3, 4]           1\n",
       "Test 2:  [1, 2, 3, 5]  [5, 2, 3, 1]           2"
      ]
     },
     "metadata": {},
     "output_type": "display_data"
    },
    {
     "name": "stdout",
     "output_type": "stream",
     "text": [
      "\n",
      "\u001b[1mRight Position: Easy\u001b[0;0m \n",
      "\n"
     ]
    }
   ],
   "source": [
    "print(eb[7])"
   ]
  },
  {
   "cell_type": "code",
   "execution_count": 14,
   "id": "ae8dac0c",
   "metadata": {},
   "outputs": [
    {
     "data": {
      "text/plain": [
       "2"
      ]
     },
     "execution_count": 14,
     "metadata": {},
     "output_type": "execute_result"
    }
   ],
   "source": [
    "def lists(x,y):\n",
    "    output = 0 \n",
    "    if len(x) == len(y):\n",
    "        for z in range (0,len(x)):\n",
    "            if x[z] == y[z]:\n",
    "                output = output + 1\n",
    "    return(output)\n",
    "\n",
    "lists([1, 2, 3, 5],[5, 2, 3, 1] )"
   ]
  },
  {
   "cell_type": "code",
   "execution_count": 15,
   "id": "9708fdb1",
   "metadata": {},
   "outputs": [
    {
     "name": "stdout",
     "output_type": "stream",
     "text": [
      "Given two equal length lists of unique numbers, write a function to return \n",
      "the number of items in these two lists that have the same values but are at \n",
      "the different positions. For example, if these two lists are [1, 2, 3, 5] \n",
      "and [2, 1, 3, 4], then the output is 2 because the same values 1 and \n",
      "2 appear at the different positions.\n"
     ]
    },
    {
     "data": {
      "text/html": [
       "<div>\n",
       "<style scoped>\n",
       "    .dataframe tbody tr th:only-of-type {\n",
       "        vertical-align: middle;\n",
       "    }\n",
       "\n",
       "    .dataframe tbody tr th {\n",
       "        vertical-align: top;\n",
       "    }\n",
       "\n",
       "    .dataframe thead th {\n",
       "        text-align: right;\n",
       "    }\n",
       "</style>\n",
       "<table border=\"1\" class=\"dataframe\">\n",
       "  <thead>\n",
       "    <tr style=\"text-align: right;\">\n",
       "      <th></th>\n",
       "      <th>Input1: list</th>\n",
       "      <th>Input2: list</th>\n",
       "      <th>Output: int</th>\n",
       "    </tr>\n",
       "  </thead>\n",
       "  <tbody>\n",
       "    <tr>\n",
       "      <th>Test 1:</th>\n",
       "      <td>[1, 2, 3, 5]</td>\n",
       "      <td>[2, 1, 3, 4]</td>\n",
       "      <td>2</td>\n",
       "    </tr>\n",
       "    <tr>\n",
       "      <th>Test 2:</th>\n",
       "      <td>[1, 2, 3, 5]</td>\n",
       "      <td>[1, 2, 3, 4]</td>\n",
       "      <td>0</td>\n",
       "    </tr>\n",
       "  </tbody>\n",
       "</table>\n",
       "</div>"
      ],
      "text/plain": [
       "         Input1: list  Input2: list Output: int\n",
       "Test 1:  [1, 2, 3, 5]  [2, 1, 3, 4]           2\n",
       "Test 2:  [1, 2, 3, 5]  [1, 2, 3, 4]           0"
      ]
     },
     "metadata": {},
     "output_type": "display_data"
    },
    {
     "name": "stdout",
     "output_type": "stream",
     "text": [
      "\n",
      "\u001b[1mWrong Position: Easy\u001b[0;0m \n",
      "\n"
     ]
    }
   ],
   "source": [
    "print(eb[8])"
   ]
  },
  {
   "cell_type": "code",
   "execution_count": 21,
   "id": "d062296c",
   "metadata": {},
   "outputs": [
    {
     "data": {
      "text/plain": [
       "0"
      ]
     },
     "execution_count": 21,
     "metadata": {},
     "output_type": "execute_result"
    }
   ],
   "source": [
    "def listunia(x,y):\n",
    "    output = 0\n",
    "    for z in range(0,len(x)-1):\n",
    "        if x[z] != y[z]:\n",
    "            if x[z] in y:\n",
    "                output = output + 1\n",
    "                \n",
    "    return(output)\n",
    "\n",
    "listunia([1, 2, 3, 5],[1, 2, 3, 4])"
   ]
  },
  {
   "cell_type": "code",
   "execution_count": 20,
   "id": "58fe3f86",
   "metadata": {},
   "outputs": [
    {
     "name": "stdout",
     "output_type": "stream",
     "text": [
      "Given a list of unique numbers, write a function to return the position \n",
      "index of the smallest number. For example, if the given list is [3, 1, 5, 0, \n",
      "2, 6], then the returned index is 3, because the smallest number 0 appears \n",
      "at position 3.\n"
     ]
    },
    {
     "data": {
      "text/html": [
       "<div>\n",
       "<style scoped>\n",
       "    .dataframe tbody tr th:only-of-type {\n",
       "        vertical-align: middle;\n",
       "    }\n",
       "\n",
       "    .dataframe tbody tr th {\n",
       "        vertical-align: top;\n",
       "    }\n",
       "\n",
       "    .dataframe thead th {\n",
       "        text-align: right;\n",
       "    }\n",
       "</style>\n",
       "<table border=\"1\" class=\"dataframe\">\n",
       "  <thead>\n",
       "    <tr style=\"text-align: right;\">\n",
       "      <th></th>\n",
       "      <th>Input1: list</th>\n",
       "      <th>Output: int</th>\n",
       "    </tr>\n",
       "  </thead>\n",
       "  <tbody>\n",
       "    <tr>\n",
       "      <th>Test 1:</th>\n",
       "      <td>[0, 1, 3, 2, 5]</td>\n",
       "      <td>0</td>\n",
       "    </tr>\n",
       "    <tr>\n",
       "      <th>Test 2:</th>\n",
       "      <td>[3, 2, 5, 1, 4, 0]</td>\n",
       "      <td>5</td>\n",
       "    </tr>\n",
       "    <tr>\n",
       "      <th>Test 3:</th>\n",
       "      <td>[1, 2, 0, 3, 5]</td>\n",
       "      <td>2</td>\n",
       "    </tr>\n",
       "  </tbody>\n",
       "</table>\n",
       "</div>"
      ],
      "text/plain": [
       "               Input1: list Output: int\n",
       "Test 1:     [0, 1, 3, 2, 5]           0\n",
       "Test 2:  [3, 2, 5, 1, 4, 0]           5\n",
       "Test 3:     [1, 2, 0, 3, 5]           2"
      ]
     },
     "metadata": {},
     "output_type": "display_data"
    },
    {
     "name": "stdout",
     "output_type": "stream",
     "text": [
      "\n",
      "\u001b[1mMinimum Number Index: Medium\u001b[0;0m \n",
      "\n"
     ]
    }
   ],
   "source": [
    "print(eb[9])"
   ]
  },
  {
   "cell_type": "code",
   "execution_count": 25,
   "id": "d9c74ce7",
   "metadata": {},
   "outputs": [
    {
     "data": {
      "text/plain": [
       "0"
      ]
     },
     "execution_count": 25,
     "metadata": {},
     "output_type": "execute_result"
    }
   ],
   "source": [
    "def smallest(x):\n",
    "    small = 0.1\n",
    "    result = []\n",
    "    for z in range(0,len(x)-1):\n",
    "        if x[z]<small:\n",
    "            result = z\n",
    "    return(result)\n",
    "\n",
    "smallest([0, 1, 3, 2, 5])\n",
    "            "
   ]
  },
  {
   "cell_type": "code",
   "execution_count": 4,
   "id": "80b7ca47",
   "metadata": {},
   "outputs": [
    {
     "name": "stdout",
     "output_type": "stream",
     "text": [
      "Given a list of numbers as the first input argument, and an integer k as \n",
      "the second argument, write a function that returns a list of the k smallest \n",
      "numbers of the list. Items in the returned list is ranked from the smallest \n",
      "to the largest. For example, if the list is [0, 1, 2, 3, 2, 5], and the \n",
      "integer is k=3, then the returned list is [0, 1, 2]. If k is larger than \n",
      "the length of the list, then return the whole list.\n"
     ]
    },
    {
     "data": {
      "text/html": [
       "<div>\n",
       "<style scoped>\n",
       "    .dataframe tbody tr th:only-of-type {\n",
       "        vertical-align: middle;\n",
       "    }\n",
       "\n",
       "    .dataframe tbody tr th {\n",
       "        vertical-align: top;\n",
       "    }\n",
       "\n",
       "    .dataframe thead th {\n",
       "        text-align: right;\n",
       "    }\n",
       "</style>\n",
       "<table border=\"1\" class=\"dataframe\">\n",
       "  <thead>\n",
       "    <tr style=\"text-align: right;\">\n",
       "      <th></th>\n",
       "      <th>Input1: list</th>\n",
       "      <th>Input2: int</th>\n",
       "      <th>Output: list</th>\n",
       "    </tr>\n",
       "  </thead>\n",
       "  <tbody>\n",
       "    <tr>\n",
       "      <th>Test 1:</th>\n",
       "      <td>[0, 1, 2, 3, 2, 5]</td>\n",
       "      <td>3</td>\n",
       "      <td>[0, 1, 2]</td>\n",
       "    </tr>\n",
       "    <tr>\n",
       "      <th>Test 2:</th>\n",
       "      <td>[0, 1, 2, 3, 2, 5]</td>\n",
       "      <td>1</td>\n",
       "      <td>[0]</td>\n",
       "    </tr>\n",
       "    <tr>\n",
       "      <th>Test 3:</th>\n",
       "      <td>[0, 1, 2, 3, 2, 5]</td>\n",
       "      <td>8</td>\n",
       "      <td>[0, 1, 2, 2, 3, 5]</td>\n",
       "    </tr>\n",
       "  </tbody>\n",
       "</table>\n",
       "</div>"
      ],
      "text/plain": [
       "               Input1: list Input2: int        Output: list\n",
       "Test 1:  [0, 1, 2, 3, 2, 5]           3           [0, 1, 2]\n",
       "Test 2:  [0, 1, 2, 3, 2, 5]           1                 [0]\n",
       "Test 3:  [0, 1, 2, 3, 2, 5]           8  [0, 1, 2, 2, 3, 5]"
      ]
     },
     "metadata": {},
     "output_type": "display_data"
    },
    {
     "name": "stdout",
     "output_type": "stream",
     "text": [
      "\n",
      "\u001b[1mK Smallest: Medium\u001b[0;0m \n",
      "\n"
     ]
    }
   ],
   "source": [
    "print(eb[10])"
   ]
  },
  {
   "cell_type": "code",
   "execution_count": 28,
   "id": "bc9f7624",
   "metadata": {},
   "outputs": [
    {
     "data": {
      "text/plain": [
       "[0, 1, 2]"
      ]
     },
     "execution_count": 28,
     "metadata": {},
     "output_type": "execute_result"
    }
   ],
   "source": [
    "def listeczka(x,k):\n",
    "    length  = len(x)\n",
    "    if length < k:\n",
    "        return(x)\n",
    "    else:\n",
    "        x.sort()\n",
    "        y = x[0:k]\n",
    "        return(y)\n",
    "       \n",
    "            \n",
    "            \n",
    "listeczka([0, 1, 2, 3, 2, 5], 3)\n",
    "            \n",
    "\n",
    "            \n",
    "            \n",
    "            "
   ]
  },
  {
   "cell_type": "code",
   "execution_count": 30,
   "id": "bd3a137f",
   "metadata": {},
   "outputs": [
    {
     "name": "stdout",
     "output_type": "stream",
     "text": [
      "Write a function to find the Nth number in the Fibonacci Sequence, In the \n",
      "Fibonacci Sequence, the next number is the sum of the two numbers before it, \n",
      "i.e. 0, 1, 1, 2, 3, 5, 8, 13, 21, 34, ... For example, if N=0, then the \n",
      "output is 0; if N=1 or N=2, then the output is 1; if N=3, then the output is \n",
      "2; if N=4, then the output is 3.\n"
     ]
    },
    {
     "data": {
      "text/html": [
       "<div>\n",
       "<style scoped>\n",
       "    .dataframe tbody tr th:only-of-type {\n",
       "        vertical-align: middle;\n",
       "    }\n",
       "\n",
       "    .dataframe tbody tr th {\n",
       "        vertical-align: top;\n",
       "    }\n",
       "\n",
       "    .dataframe thead th {\n",
       "        text-align: right;\n",
       "    }\n",
       "</style>\n",
       "<table border=\"1\" class=\"dataframe\">\n",
       "  <thead>\n",
       "    <tr style=\"text-align: right;\">\n",
       "      <th></th>\n",
       "      <th>Input1: int</th>\n",
       "      <th>Output: int</th>\n",
       "    </tr>\n",
       "  </thead>\n",
       "  <tbody>\n",
       "    <tr>\n",
       "      <th>Test 1:</th>\n",
       "      <td>4</td>\n",
       "      <td>3</td>\n",
       "    </tr>\n",
       "    <tr>\n",
       "      <th>Test 2:</th>\n",
       "      <td>20</td>\n",
       "      <td>6765</td>\n",
       "    </tr>\n",
       "    <tr>\n",
       "      <th>Test 3:</th>\n",
       "      <td>100</td>\n",
       "      <td>354224848179261915075</td>\n",
       "    </tr>\n",
       "  </tbody>\n",
       "</table>\n",
       "</div>"
      ],
      "text/plain": [
       "        Input1: int            Output: int\n",
       "Test 1:           4                      3\n",
       "Test 2:          20                   6765\n",
       "Test 3:         100  354224848179261915075"
      ]
     },
     "metadata": {},
     "output_type": "display_data"
    },
    {
     "name": "stdout",
     "output_type": "stream",
     "text": [
      "\n",
      "\u001b[1mFibonacci: Medium\u001b[0;0m \n",
      "\n"
     ]
    }
   ],
   "source": [
    "print(eb[12])"
   ]
  },
  {
   "cell_type": "code",
   "execution_count": 58,
   "id": "fb6b5649",
   "metadata": {},
   "outputs": [
    {
     "data": {
      "text/plain": [
       "354224848179261915075"
      ]
     },
     "execution_count": 58,
     "metadata": {},
     "output_type": "execute_result"
    }
   ],
   "source": [
    "def fibonacc(n):\n",
    "    sequence = [0,1]\n",
    "    if n == 0:\n",
    "        return(0)\n",
    "    elif n == 1:\n",
    "        return(1)\n",
    "    else:\n",
    "        sequence = [0,1]\n",
    "        for x in range(2,n+1):\n",
    "            sequence.append(sequence[-1]+sequence[-2])\n",
    "        return(sequence[n])\n",
    "    \n",
    "fibonacc(100)\n"
   ]
  },
  {
   "cell_type": "code",
   "execution_count": 60,
   "id": "1d088bf9",
   "metadata": {},
   "outputs": [
    {
     "name": "stdout",
     "output_type": "stream",
     "text": [
      "Create a function to transform the time data as a string of \"XX:XX:XXam\" or \n",
      "\"XX:XX:XXpm\" to the number of seconds counted from 12:00am. For example, the \n",
      "input of \"10:35:29am\" gives an output of 38129; the input of 06:21:33pm gives \n",
      "an output of 66093.\n"
     ]
    },
    {
     "data": {
      "text/html": [
       "<div>\n",
       "<style scoped>\n",
       "    .dataframe tbody tr th:only-of-type {\n",
       "        vertical-align: middle;\n",
       "    }\n",
       "\n",
       "    .dataframe tbody tr th {\n",
       "        vertical-align: top;\n",
       "    }\n",
       "\n",
       "    .dataframe thead th {\n",
       "        text-align: right;\n",
       "    }\n",
       "</style>\n",
       "<table border=\"1\" class=\"dataframe\">\n",
       "  <thead>\n",
       "    <tr style=\"text-align: right;\">\n",
       "      <th></th>\n",
       "      <th>Input1: str</th>\n",
       "      <th>Output: int</th>\n",
       "    </tr>\n",
       "  </thead>\n",
       "  <tbody>\n",
       "    <tr>\n",
       "      <th>Test 1:</th>\n",
       "      <td>10:35:29am</td>\n",
       "      <td>38129</td>\n",
       "    </tr>\n",
       "    <tr>\n",
       "      <th>Test 2:</th>\n",
       "      <td>06:21:33pm</td>\n",
       "      <td>66093</td>\n",
       "    </tr>\n",
       "  </tbody>\n",
       "</table>\n",
       "</div>"
      ],
      "text/plain": [
       "        Input1: str Output: int\n",
       "Test 1:  10:35:29am       38129\n",
       "Test 2:  06:21:33pm       66093"
      ]
     },
     "metadata": {},
     "output_type": "display_data"
    },
    {
     "name": "stdout",
     "output_type": "stream",
     "text": [
      "\n",
      "\u001b[1mTime Conversiont: Easy\u001b[0;0m \n",
      "\n"
     ]
    }
   ],
   "source": [
    "print(eb[13])"
   ]
  },
  {
   "cell_type": "code",
   "execution_count": 35,
   "id": "c83dec9e",
   "metadata": {},
   "outputs": [
    {
     "data": {
      "text/plain": [
       "66093"
      ]
     },
     "execution_count": 35,
     "metadata": {},
     "output_type": "execute_result"
    }
   ],
   "source": [
    "def converter(times):\n",
    "    if \"am\" in times:\n",
    "        kluseczka = times.replace(\"am\", \"\")\n",
    "        konik = kluseczka.split(\":\")\n",
    "        seconds = int(konik[-1])\n",
    "        minutes = int(konik[-2]) * 60\n",
    "        hours = int(konik[-3])*60*60\n",
    "        total = seconds+minutes+hours\n",
    "        return(total)\n",
    "    elif \"pm\" in times:\n",
    "        kluseczka = times.replace(\"pm\", \"\")\n",
    "        konik = kluseczka.split(\":\")\n",
    "        \n",
    "        seconds = int(konik[-1])\n",
    "        minutes = int(konik[-2]) * 60\n",
    "        hours = int(konik[-3])*60*60\n",
    "        total = seconds+minutes+hours+12*60*60\n",
    "        return(total)\n",
    " \n",
    "    \n",
    "converter(\"06:21:33pm\")"
   ]
  },
  {
   "cell_type": "code",
   "execution_count": 38,
   "id": "6aac2be3",
   "metadata": {},
   "outputs": [
    {
     "name": "stdout",
     "output_type": "stream",
     "text": [
      "Reverse the digits of an integer. For example, if the input is 123, then the \n",
      "output is 321; if the input is -456, then the output is -654.\n"
     ]
    },
    {
     "data": {
      "text/html": [
       "<div>\n",
       "<style scoped>\n",
       "    .dataframe tbody tr th:only-of-type {\n",
       "        vertical-align: middle;\n",
       "    }\n",
       "\n",
       "    .dataframe tbody tr th {\n",
       "        vertical-align: top;\n",
       "    }\n",
       "\n",
       "    .dataframe thead th {\n",
       "        text-align: right;\n",
       "    }\n",
       "</style>\n",
       "<table border=\"1\" class=\"dataframe\">\n",
       "  <thead>\n",
       "    <tr style=\"text-align: right;\">\n",
       "      <th></th>\n",
       "      <th>Input1: int</th>\n",
       "      <th>Output: int</th>\n",
       "    </tr>\n",
       "  </thead>\n",
       "  <tbody>\n",
       "    <tr>\n",
       "      <th>Test 1:</th>\n",
       "      <td>123</td>\n",
       "      <td>321</td>\n",
       "    </tr>\n",
       "    <tr>\n",
       "      <th>Test 2:</th>\n",
       "      <td>-456</td>\n",
       "      <td>-654</td>\n",
       "    </tr>\n",
       "  </tbody>\n",
       "</table>\n",
       "</div>"
      ],
      "text/plain": [
       "        Input1: int Output: int\n",
       "Test 1:         123         321\n",
       "Test 2:        -456        -654"
      ]
     },
     "metadata": {},
     "output_type": "display_data"
    },
    {
     "name": "stdout",
     "output_type": "stream",
     "text": [
      "\n",
      "\u001b[1mReverse Digits: Easy\u001b[0;0m \n",
      "\n"
     ]
    }
   ],
   "source": [
    "print(eb[14])"
   ]
  },
  {
   "cell_type": "code",
   "execution_count": 52,
   "id": "ea739a34",
   "metadata": {},
   "outputs": [
    {
     "name": "stdout",
     "output_type": "stream",
     "text": [
      "-654\n"
     ]
    }
   ],
   "source": [
    "def reverse(x):\n",
    "    if x>0:\n",
    "        x = str(x)\n",
    "        print(x[::-1])\n",
    "    else:\n",
    "        x = -x\n",
    "        x = str(x)\n",
    "        result = \"-\"+ x[::-1]\n",
    "        print(result)\n",
    "        \n",
    "reverse(-456)"
   ]
  },
  {
   "cell_type": "code",
   "execution_count": 53,
   "id": "03a7e58a",
   "metadata": {},
   "outputs": [
    {
     "name": "stdout",
     "output_type": "stream",
     "text": [
      "Create a function to remove all duplicates in a list, so that the output is a \n",
      "list containing the unique values of the original list. For example, if the \n",
      "input list is [2, 3, 5, 2, 3, 4, 7], then the output must be [2, 3, 5, 4, 7].\n"
     ]
    },
    {
     "data": {
      "text/html": [
       "<div>\n",
       "<style scoped>\n",
       "    .dataframe tbody tr th:only-of-type {\n",
       "        vertical-align: middle;\n",
       "    }\n",
       "\n",
       "    .dataframe tbody tr th {\n",
       "        vertical-align: top;\n",
       "    }\n",
       "\n",
       "    .dataframe thead th {\n",
       "        text-align: right;\n",
       "    }\n",
       "</style>\n",
       "<table border=\"1\" class=\"dataframe\">\n",
       "  <thead>\n",
       "    <tr style=\"text-align: right;\">\n",
       "      <th></th>\n",
       "      <th>Input1: list</th>\n",
       "      <th>Output: list</th>\n",
       "    </tr>\n",
       "  </thead>\n",
       "  <tbody>\n",
       "    <tr>\n",
       "      <th>Test 1:</th>\n",
       "      <td>[2, 3, 5, 2, 3, 4, 7]</td>\n",
       "      <td>[2, 3, 5, 4, 7]</td>\n",
       "    </tr>\n",
       "    <tr>\n",
       "      <th>Test 2:</th>\n",
       "      <td>[3.5, '4', '4', True, False, False]</td>\n",
       "      <td>[3.5, '4', True, False]</td>\n",
       "    </tr>\n",
       "  </tbody>\n",
       "</table>\n",
       "</div>"
      ],
      "text/plain": [
       "                                Input1: list             Output: list\n",
       "Test 1:                [2, 3, 5, 2, 3, 4, 7]          [2, 3, 5, 4, 7]\n",
       "Test 2:  [3.5, '4', '4', True, False, False]  [3.5, '4', True, False]"
      ]
     },
     "metadata": {},
     "output_type": "display_data"
    },
    {
     "name": "stdout",
     "output_type": "stream",
     "text": [
      "\n",
      "\u001b[1mUnique: Easy\u001b[0;0m \n",
      "\n"
     ]
    }
   ],
   "source": [
    "print(eb[15])"
   ]
  },
  {
   "cell_type": "code",
   "execution_count": 56,
   "id": "bedcf28e",
   "metadata": {},
   "outputs": [
    {
     "name": "stdout",
     "output_type": "stream",
     "text": [
      "[2, 3, 4, 5, 7]\n"
     ]
    }
   ],
   "source": [
    "def duplicate(lista):\n",
    "    lista = set(lista)\n",
    "    lista = list(lista)\n",
    "    print(lista)\n",
    "    \n",
    "    \n",
    "duplicate([2,3,5,2,3,4,7])         # first solution, although this one also sorted it so change the order of the items)"
   ]
  },
  {
   "cell_type": "code",
   "execution_count": 57,
   "id": "f82fd15a",
   "metadata": {},
   "outputs": [
    {
     "name": "stdout",
     "output_type": "stream",
     "text": [
      "[2, 3, 5, 4, 7]\n"
     ]
    }
   ],
   "source": [
    "#alternative solution\n",
    "\n",
    "def duplicate(lista):\n",
    "    new_lista = []\n",
    "    for x in lista:\n",
    "        if x not in new_lista:\n",
    "            new_lista.append(x)\n",
    "    print(new_lista)\n",
    "    \n",
    "    \n",
    "duplicate([2,3,5,2,3,4,7])\n",
    "    "
   ]
  },
  {
   "cell_type": "code",
   "execution_count": 58,
   "id": "4c8dfb41",
   "metadata": {},
   "outputs": [
    {
     "name": "stdout",
     "output_type": "stream",
     "text": [
      "Create a function with the input argument to be a string. The output is the \n",
      "longest word in the string. For example, the input is a string \"NUS Business \n",
      "School is a magical place\", then the output is the string \"Business\". If\n",
      "there are two or more words with the same maximum length, then return the \n",
      "first one.\n"
     ]
    },
    {
     "data": {
      "text/html": [
       "<div>\n",
       "<style scoped>\n",
       "    .dataframe tbody tr th:only-of-type {\n",
       "        vertical-align: middle;\n",
       "    }\n",
       "\n",
       "    .dataframe tbody tr th {\n",
       "        vertical-align: top;\n",
       "    }\n",
       "\n",
       "    .dataframe thead th {\n",
       "        text-align: right;\n",
       "    }\n",
       "</style>\n",
       "<table border=\"1\" class=\"dataframe\">\n",
       "  <thead>\n",
       "    <tr style=\"text-align: right;\">\n",
       "      <th></th>\n",
       "      <th>Input1: str</th>\n",
       "      <th>Output: str</th>\n",
       "    </tr>\n",
       "  </thead>\n",
       "  <tbody>\n",
       "    <tr>\n",
       "      <th>Test 1:</th>\n",
       "      <td>NUS Business School is a magical place</td>\n",
       "      <td>Business</td>\n",
       "    </tr>\n",
       "    <tr>\n",
       "      <th>Test 2:</th>\n",
       "      <td>Simple is better than complex</td>\n",
       "      <td>complex</td>\n",
       "    </tr>\n",
       "  </tbody>\n",
       "</table>\n",
       "</div>"
      ],
      "text/plain": [
       "                                    Input1: str Output: str\n",
       "Test 1:  NUS Business School is a magical place    Business\n",
       "Test 2:           Simple is better than complex     complex"
      ]
     },
     "metadata": {},
     "output_type": "display_data"
    },
    {
     "name": "stdout",
     "output_type": "stream",
     "text": [
      "\n",
      "\u001b[1mLongest Word: Medium\u001b[0;0m \n",
      "\n"
     ]
    }
   ],
   "source": [
    "print(eb[16])"
   ]
  },
  {
   "cell_type": "code",
   "execution_count": 77,
   "id": "15771397",
   "metadata": {},
   "outputs": [
    {
     "name": "stdout",
     "output_type": "stream",
     "text": [
      "complex\n"
     ]
    }
   ],
   "source": [
    "def returner(string):\n",
    "    list_items = string.split(\" \")\n",
    "    longest_count = 0\n",
    "    longest_word = 0\n",
    "    for x in list_items:\n",
    "        if len(x) > longest_count:\n",
    "            longest_count = len(x)\n",
    "            longest_word = x\n",
    "    print(longest_word)\n",
    "\n",
    "        \n",
    "returner(\"Simple is better than complex\")"
   ]
  },
  {
   "cell_type": "code",
   "execution_count": 78,
   "id": "ee78b7ca",
   "metadata": {},
   "outputs": [
    {
     "name": "stdout",
     "output_type": "stream",
     "text": [
      "Create a function to return the length of the last word in a string. For \n",
      "example, if the input is \"NUS Business School is a magical place\", then the \n",
      "output is 5, the length of the last word \"place\". \n"
     ]
    },
    {
     "data": {
      "text/html": [
       "<div>\n",
       "<style scoped>\n",
       "    .dataframe tbody tr th:only-of-type {\n",
       "        vertical-align: middle;\n",
       "    }\n",
       "\n",
       "    .dataframe tbody tr th {\n",
       "        vertical-align: top;\n",
       "    }\n",
       "\n",
       "    .dataframe thead th {\n",
       "        text-align: right;\n",
       "    }\n",
       "</style>\n",
       "<table border=\"1\" class=\"dataframe\">\n",
       "  <thead>\n",
       "    <tr style=\"text-align: right;\">\n",
       "      <th></th>\n",
       "      <th>Input1: str</th>\n",
       "      <th>Output: int</th>\n",
       "    </tr>\n",
       "  </thead>\n",
       "  <tbody>\n",
       "    <tr>\n",
       "      <th>Test 1:</th>\n",
       "      <td>NUS Business School is a magical place</td>\n",
       "      <td>5</td>\n",
       "    </tr>\n",
       "    <tr>\n",
       "      <th>Test 2:</th>\n",
       "      <td>Take a sad song and make it better</td>\n",
       "      <td>6</td>\n",
       "    </tr>\n",
       "  </tbody>\n",
       "</table>\n",
       "</div>"
      ],
      "text/plain": [
       "                                    Input1: str Output: int\n",
       "Test 1:  NUS Business School is a magical place           5\n",
       "Test 2:      Take a sad song and make it better           6"
      ]
     },
     "metadata": {},
     "output_type": "display_data"
    },
    {
     "name": "stdout",
     "output_type": "stream",
     "text": [
      "\n",
      "\u001b[1mLast Word: Easy\u001b[0;0m \n",
      "\n"
     ]
    }
   ],
   "source": [
    "print(eb[17])"
   ]
  },
  {
   "cell_type": "code",
   "execution_count": 80,
   "id": "6c9ef718",
   "metadata": {},
   "outputs": [
    {
     "name": "stdout",
     "output_type": "stream",
     "text": [
      "5\n"
     ]
    }
   ],
   "source": [
    "def lengthy(x):\n",
    "    list_items = x.split(\" \")\n",
    "    print(len(list_items[-1]))\n",
    "    \n",
    "\n",
    "        \n",
    "lengthy(\"NUS Business School is a magical place\")\n",
    "    "
   ]
  },
  {
   "cell_type": "code",
   "execution_count": null,
   "id": "0ab9daf0",
   "metadata": {},
   "outputs": [],
   "source": []
  }
 ],
 "metadata": {
  "kernelspec": {
   "display_name": "Python 3 (ipykernel)",
   "language": "python",
   "name": "python3"
  },
  "language_info": {
   "codemirror_mode": {
    "name": "ipython",
    "version": 3
   },
   "file_extension": ".py",
   "mimetype": "text/x-python",
   "name": "python",
   "nbconvert_exporter": "python",
   "pygments_lexer": "ipython3",
   "version": "3.9.7"
  }
 },
 "nbformat": 4,
 "nbformat_minor": 5
}
